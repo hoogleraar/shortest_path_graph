{
 "cells": [
  {
   "cell_type": "code",
   "execution_count": 1,
   "metadata": {},
   "outputs": [],
   "source": [
    "import collections\n",
    "\n",
    " \n",
    "class Graph:\n",
    "    ''' класс для графа'''\n",
    "    def __init__(self):\n",
    "        self.vertexes = set()\n",
    " \n",
    "        # по умолчанию пустой лист для каждой вершины\n",
    "        self.edges = collections.defaultdict(list) #ребра\n",
    "        self.weights = {} #веса\n",
    " \n",
    "    def add_vertex(self, value): # функция добавления вершины\n",
    "        self.vertexes.add(value)\n",
    " \n",
    "    def add_edge(self, from_vertex, to_vertex, distance): # функция добавления ребер\n",
    "        if from_vertex == to_vertex: pass  # чтобы не было вершины саму в себя\n",
    "        self.edges[from_vertex].append(to_vertex)\n",
    "        self.weights[(from_vertex, to_vertex)] = distance\n",
    "    def __str__(self):   # для вывода print'ом графа (можно убрать вообще)\n",
    "        s = \"Vertexes: \" + str(self.vertexes) + \"\\n\"\n",
    "        s += \"Edges: \" + str(self.edges) + \"\\n\"\n",
    "        s += \"Weights: \" + str(self.weights)\n",
    "        return s"
   ]
  },
  {
   "cell_type": "code",
   "execution_count": 2,
   "metadata": {},
   "outputs": [],
   "source": [
    "def algorithm(graph, start_vertex):\n",
    "    \n",
    "    S = set()\n",
    " \n",
    "      \n",
    "    gamma = dict.fromkeys(list(graph.vertexes), float('inf')) # \n",
    "    previous = dict.fromkeys(list(graph.vertexes), None)\n",
    "\n",
    "    # дистанция для стартовой точки 0\n",
    "    gamma[start_vertex] = 0\n",
    "\n",
    "    # луп, пока существует вершина, которая не в S \n",
    "    while S != graph.vertexes:\n",
    "    # пусть v - это ближайшая вершина, которая еще не посещена\n",
    "        v = min((set(gamma.keys()) - S), key=gamma.get)\n",
    " \n",
    "        # для каждого соседа v не в S. Сосед - до кого есть ребро.\n",
    "        for neighbor in set(graph.edges[v]) - S:\n",
    "            new_path = gamma[v] + graph.weights[v,neighbor]\n",
    " \n",
    "          \n",
    "            if new_path < gamma[neighbor]:\n",
    "        # обновим, если оптимально\n",
    "                gamma[neighbor] = new_path\n",
    " \n",
    "            previous[neighbor] = v\n",
    "        S.add(v)\n",
    "\n",
    "    return (gamma, previous)\n",
    "\n",
    "\n",
    "\n",
    "\n",
    "def path(graph, start_vertex, end_vertex):\n",
    "    '''используем функцию algorithm'''\n",
    "    gamma, previous = algorithm(graph, start_vertex)\n",
    "  \n",
    "    path = []\n",
    "    vertex = end_vertex\n",
    " \n",
    "    while vertex is not None:\n",
    "        path.append(vertex)\n",
    "        vertex = previous[vertex]\n",
    " \n",
    "    path.reverse()\n",
    "    return path"
   ]
  },
  {
   "cell_type": "code",
   "execution_count": 3,
   "metadata": {},
   "outputs": [
    {
     "name": "stdout",
     "output_type": "stream",
     "text": [
      "['a', 'b', 'c', 'e']\n"
     ]
    }
   ],
   "source": [
    "# пример работы\n",
    "\n",
    "G = Graph()\n",
    "G.add_vertex('a')\n",
    "G.add_vertex('b')\n",
    "G.add_vertex('c')\n",
    "G.add_vertex('d')\n",
    "G.add_vertex('e')\n",
    " \n",
    "G.add_edge('a', 'b', 3)\n",
    "G.add_edge('a', 'c', 7)\n",
    "G.add_edge('a', 'd', 4)\n",
    "G.add_edge('b', 'c', 2)\n",
    "G.add_edge('c', 'e', 5)\n",
    "G.add_edge('d', 'e', 8)\n",
    "\n",
    "print(path(graph=G, start_vertex='a', end_vertex='e'))"
   ]
  },
  {
   "cell_type": "code",
   "execution_count": null,
   "metadata": {},
   "outputs": [],
   "source": []
  }
 ],
 "metadata": {
  "kernelspec": {
   "display_name": "Python 3",
   "language": "python",
   "name": "python3"
  },
  "language_info": {
   "codemirror_mode": {
    "name": "ipython",
    "version": 3
   },
   "file_extension": ".py",
   "mimetype": "text/x-python",
   "name": "python",
   "nbconvert_exporter": "python",
   "pygments_lexer": "ipython3",
   "version": "3.6.1"
  }
 },
 "nbformat": 4,
 "nbformat_minor": 2
}
